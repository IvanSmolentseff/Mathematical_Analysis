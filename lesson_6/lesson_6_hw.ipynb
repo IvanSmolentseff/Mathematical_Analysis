{
  "nbformat": 4,
  "nbformat_minor": 0,
  "metadata": {
    "colab": {
      "provenance": []
    },
    "kernelspec": {
      "name": "python3",
      "display_name": "Python 3"
    },
    "language_info": {
      "name": "python"
    }
  },
  "cells": [
    {
      "cell_type": "markdown",
      "source": [
        "# Тема 6 “Понятие о производной”"
      ],
      "metadata": {
        "id": "ThfqQdywtuNm"
      }
    },
    {
      "cell_type": "markdown",
      "source": [
        "## 1. Найти производную выражения:  \n"
      ],
      "metadata": {
        "id": "xiRUb7XXtuLC"
      }
    },
    {
      "cell_type": "markdown",
      "source": [
        "**a. $\\sin{x}⋅\\cos{x}$**  \n",
        "\n",
        "$\\sin{x}⋅\\cos{x} = \\frac{1}{2}\\sin(2x)$  \n",
        "\n",
        "Производная от $\\frac{1}{2}\\sin(2x)$:  \n",
        "$\\frac{\\mathrm d}{\\mathrm d x} \\big(\\frac{1}{2}\\sin(2x)\\big) = \\frac{1}{2}⋅2\\cos(2x) = \\cos(2x)$"
      ],
      "metadata": {
        "id": "uX_71jAltuIQ"
      }
    },
    {
      "cell_type": "markdown",
      "source": [],
      "metadata": {
        "id": "Ez0wXucStuFu"
      }
    },
    {
      "cell_type": "markdown",
      "source": [
        "**b. $\\ln(2x+1)^3$**  \n",
        "\n",
        "Сначала упростим выражение с помощью свойства логарифма:  \n",
        "$\\ln(2x+1)^3 = 3\\ln(2x+1)$  \n",
        "Теперь найдем производную:  \n",
        "$\\frac{\\mathrm d}{\\mathrm d x} \\big(3\\ln(2x+1)\\big) = 3⋅\\frac{1}{2x+1}⋅2 = \\frac{6}{2x+1}$"
      ],
      "metadata": {
        "id": "yLIxMqrltuDK"
      }
    },
    {
      "cell_type": "markdown",
      "source": [
        "**c. $\\sqrt{\\sin^2(\\ln(x^3))}$**  \n",
        "\n",
        "Сначала упростим выражение:  \n",
        "$\\sqrt{\\sin^2(\\ln(x^3))} = |\\sin(\\ln(x^3))|$  \n",
        "\n",
        "Теперь найдем производную   \n",
        "$\\frac{\\mathrm d}{\\mathrm d x} \\big(|\\sin(\\ln(x^3))|\\big) = \\cos(\\ln(x^3))⋅\\frac{\\mathrm d}{\\mathrm d x}\\big(\\ln(x^3)\\big) = \\cos(\\ln(x^3))⋅\\frac{3}{x}$"
      ],
      "metadata": {
        "id": "jVr3UMBatuAW"
      }
    },
    {
      "cell_type": "markdown",
      "source": [
        "**d. $\\frac{x^4}{\\ln(x)}$**  \n",
        "\n",
        "$\\frac{\\mathrm d}{\\mathrm d x} \\big(\\frac{x^4}{\\ln(x)}\\big) = \\frac{4x^3⋅\\ln(x) - x^4⋅\\frac{1}{x}}{(\\ln(x))^2} = \\frac{4x^3⋅\\ln(x) - x^3}{(\\ln(x))^2} = \\frac{x^3(4\\ln(x)-1)}{(\\ln(x))^2} $"
      ],
      "metadata": {
        "id": "vVMU7r7Wtt9q"
      }
    },
    {
      "cell_type": "markdown",
      "source": [
        "## 2. Найти выражение производной функции и ее значение в точке:   "
      ],
      "metadata": {
        "id": "FT0ea6HAtt7E"
      }
    },
    {
      "cell_type": "markdown",
      "source": [
        "$f(x) = \\cos(x^2+3x)$, $x_0=\\sqrt{\\pi}$  \n",
        "\n",
        "* Найдём производную функции  \n",
        "$f'(x) = -\\sin(x^2+3x)⋅(2x+3)$  \n",
        "\n",
        "* Найдём значение производной в точке $x_0=\\sqrt{\\pi}$  \n",
        "$f'(\\sqrt{\\pi}) = -\\sin((\\sqrt{\\pi})^2+3\\sqrt{\\pi})⋅(2\\sqrt{\\pi}+3) = -\\sin(\\pi+3\\sqrt{\\pi})⋅(2\\sqrt{\\pi}+3)$"
      ],
      "metadata": {
        "id": "p1MnP36ktt4J"
      }
    },
    {
      "cell_type": "code",
      "source": [
        "import numpy as np\n",
        "\n",
        "# Значение точки x0\n",
        "x0 = np.sqrt(np.pi)\n",
        "\n",
        "# Вычислим производную в этой точке\n",
        "u = x0**2 + 3*x0\n",
        "derivative_value = -np.sin(u) * (2*x0 + 3)\n",
        "\n",
        "derivative_value\n"
      ],
      "metadata": {
        "colab": {
          "base_uri": "https://localhost:8080/"
        },
        "id": "Owr-Ficw4cMf",
        "outputId": "c47132f4-b6af-4f29-eb80-34da94212006"
      },
      "execution_count": 1,
      "outputs": [
        {
          "output_type": "execute_result",
          "data": {
            "text/plain": [
              "-5.383302410890619"
            ]
          },
          "metadata": {},
          "execution_count": 1
        }
      ]
    },
    {
      "cell_type": "markdown",
      "source": [
        "Значение производной функции $f'(x)$ в точке $x_0=\\sqrt{\\pi}$ равно примерно $-5.383$."
      ],
      "metadata": {
        "id": "UuYgyv3g4nPB"
      }
    },
    {
      "cell_type": "markdown",
      "source": [
        "## 3. * Найти значение производной функции в точке:"
      ],
      "metadata": {
        "id": "2Ig3Yp_9451y"
      }
    },
    {
      "cell_type": "markdown",
      "source": [
        "$f(x) = \\frac{x^3-x^2-x-1}{1+2x+3x^2-4x^3}$, $x_0=0$  \n",
        "\n",
        "a. Найдём производную функции  \n",
        "Используем правило производной частного. Если $f(x) = \\frac{u(x)}{v(x)}$, то   \n",
        "$f'(x) = \\frac{u'(x)v(x) - u(x)v'(x)}{v(x)^2}$  \n",
        "\n",
        "где:  \n",
        "* $u(x) = x^3-x^2-x-1$  \n",
        "* $v(x) = 1+2x+3x^2-4x^3$\n",
        "\n",
        "Теперь найдём производные  \n",
        "* $u'(x) = 3x^2-2x-1$  \n",
        "* $v'(x) = 2+6x-12x^2$  \n",
        "\n",
        "b. Найдём значение производной в точке $x_0=0$  \n",
        "* $u(x) = 0^3-0^2-0-1 = -1$  \n",
        "* $v(x) = 1+2⋅0+3⋅0^2-4⋅0^3 = 1$  \n",
        "* $u'(x) = 3⋅0^2-2⋅0-1 = -1$  \n",
        "* $v'(x) = 2+6⋅0-12⋅0^2 = 2$  \n",
        "Теперь подставим все значения в формулу для производной:  \n",
        "$f'(0) = \\frac{(-1)(1)-(-1)(2)}{1^2} = \\frac{-1+2}{1} = 1$  \n",
        "\n",
        "Таким образом, значение производной функции в точке $x_0=0$ равно $1$."
      ],
      "metadata": {
        "id": "F4aQC0o75T03"
      }
    },
    {
      "cell_type": "markdown",
      "source": [
        "## 4. Найти угол наклона касательной к графику функции в точке:"
      ],
      "metadata": {
        "id": "En-_mgcH9cFc"
      }
    },
    {
      "cell_type": "markdown",
      "source": [
        "**$f(x) = \\sqrt{3x}\\ln{x}$, $x_0=1$**  \n",
        "\n",
        "* Найдём производную функции  \n",
        "$f'(x) = \\frac{\\mathrm d}{\\mathrm d x} \\big(\\sqrt{3x}\\big)⋅\\ln{x} + \\sqrt{3x}⋅\\frac{\\mathrm d}{\\mathrm d x} \\big(\\ln{x}\\big) = \\frac{3}{2\\sqrt{3x}}⋅\\ln{x} + \\sqrt{3x}⋅\\frac{1}{x}$  \n",
        "\n",
        "* Найдём производную в точке $x_0=1$  \n",
        "$f'(1) = \\frac{3}{2\\sqrt{3⋅1}}⋅\\ln{1} + \\sqrt{3⋅1}⋅\\frac{1}{1} = 0 + \\sqrt{3} = \\sqrt{3}$  \n",
        "\n",
        "* Найдём угол наклона касательной  \n",
        "Угол наклона касательной к графику функции определяется как арктангенс производной в данной точке:  \n",
        "$θ = \\arctan(f'(1)) = \\arctan(\\sqrt{3})$\n"
      ],
      "metadata": {
        "id": "AdWhtFzU9xOR"
      }
    },
    {
      "cell_type": "markdown",
      "source": [
        "![image.png](data:image/png;base64,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)"
      ],
      "metadata": {
        "id": "_hsZRaMVCz6Y"
      }
    },
    {
      "cell_type": "markdown",
      "source": [
        "Поскольку $\\arctan(\\sqrt{3}) = \\frac{\\pi}{3}$ радиан или 60 градусов, угол наклона касательной в точке $x_0=1$ равен $60^∘$."
      ],
      "metadata": {
        "id": "0KEz_xm1C04Q"
      }
    }
  ]
}